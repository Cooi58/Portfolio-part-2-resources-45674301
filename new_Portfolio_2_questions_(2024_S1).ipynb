{
 "cells": [
  {
   "cell_type": "markdown",
   "id": "Z88FfJc9lA_T",
   "metadata": {
    "id": "Z88FfJc9lA_T"
   },
   "source": [
    "## Analysis of an E-commerce Dataset Part 2"
   ]
  },
  {
   "cell_type": "markdown",
   "id": "hoq0NwA9lA_V",
   "metadata": {
    "id": "hoq0NwA9lA_V"
   },
   "source": [
    "The goal of the second analysis task is to train linear regression models to predict users' ratings towards items. This involves a standard Data Science workflow: exploring data, building models, making predictions, and evaluating results. In this task, we will explore the impacts of feature selections and different sizes of training/testing data on the model performance. We will use another cleaned combined e-commerce sub-dataset that **is different from** the one in “Analysis of an E-commerce Dataset” task 1."
   ]
  },
  {
   "cell_type": "markdown",
   "id": "f9fd3NU_lA_W",
   "metadata": {
    "id": "f9fd3NU_lA_W"
   },
   "source": [
    "### Import Cleaned E-commerce Dataset\n",
    "The csv file named 'cleaned_ecommerce_dataset.csv' is provided. You may need to use the Pandas method, i.e., `read_csv`, for reading it. After that, please print out its total length."
   ]
  },
  {
   "cell_type": "code",
   "execution_count": 16,
   "id": "PJrb2gtAlA_W",
   "metadata": {
    "id": "PJrb2gtAlA_W"
   },
   "outputs": [
    {
     "name": "stdout",
     "output_type": "stream",
     "text": [
      "Total length of the dataset: 2685\n"
     ]
    }
   ],
   "source": [
    "import pandas as pd\n",
    "\n",
    "# Read the file 'cleaned_ecommerce_dataset.csv' \n",
    "df = pd.read_csv(\"cleaned_ecommerce_dataset.csv\")\n",
    "\n",
    "# Print the total length of the dataset\n",
    "print(f\"Total length of the dataset: {len(df)}\")\n"
   ]
  },
  {
   "cell_type": "markdown",
   "id": "aqbuU6rglA_X",
   "metadata": {
    "id": "aqbuU6rglA_X"
   },
   "source": [
    "### Explore the Dataset\n",
    "\n",
    "* Use the methods, i.e., `head()` and `info()`, to have a rough picture about the data, e.g., how many columns, and the data types of each column.\n",
    "* As our goal is to predict ratings given other columns, please get the correlations between helpfulness/gender/category/review and rating by using the `corr()` method.\n",
    "\n",
    "  Hints: To get the correlations between different features, you may need to first convert the categorical features (i.e., gender, category and review) into numerial values. For doing this, you may need to import `OrdinalEncoder` from `sklearn.preprocessing` (refer to the useful exmaples [here](https://pbpython.com/categorical-encoding.html))\n",
    "* Please provide ___necessary explanations/analysis___ on the correlations, and figure out which are the ___most___ and ___least___ corrleated features regarding rating. Try to ___discuss___ how the correlation will affect the final prediction results, if we use these features to train a regression model for rating prediction. In what follows, we will conduct experiments to verify your hypothesis."
   ]
  },
  {
   "cell_type": "code",
   "execution_count": 18,
   "id": "W3PImHiElA_X",
   "metadata": {
    "id": "W3PImHiElA_X"
   },
   "outputs": [
    {
     "name": "stdout",
     "output_type": "stream",
     "text": [
      "First few rows of the dataset:\n",
      "   userId  timestamp                                           review  \\\n",
      "0    4081      71900                                Not always McCrap   \n",
      "1    4081      72000  I dropped the chalupa even before he told me to   \n",
      "2    4081      72000                     The Wonderful World of Wendy   \n",
      "3    4081     100399                             They actually did it   \n",
      "4    4081     100399                             Hey! Gimme some pie!   \n",
      "\n",
      "                                 item  rating  helpfulness gender  \\\n",
      "0                          McDonald's     4.0          3.0      M   \n",
      "1                           Taco Bell     1.0          4.0      M   \n",
      "2                             Wendy's     5.0          4.0      M   \n",
      "3  South Park: Bigger, Longer & Uncut     5.0          3.0      M   \n",
      "4                        American Pie     3.0          3.0      M   \n",
      "\n",
      "                category  item_id  item_price  user_city  \n",
      "0  Restaurants & Gourmet       41       30.74          4  \n",
      "1  Restaurants & Gourmet       74      108.30          4  \n",
      "2  Restaurants & Gourmet       84       69.00          4  \n",
      "3                 Movies       68      143.11          4  \n",
      "4                 Movies        6      117.89          4  \n",
      "Data types\n",
      "<class 'pandas.core.frame.DataFrame'>\n",
      "RangeIndex: 2685 entries, 0 to 2684\n",
      "Data columns (total 11 columns):\n",
      " #   Column       Non-Null Count  Dtype  \n",
      "---  ------       --------------  -----  \n",
      " 0   userId       2685 non-null   int64  \n",
      " 1   timestamp    2685 non-null   int64  \n",
      " 2   review       2685 non-null   object \n",
      " 3   item         2685 non-null   object \n",
      " 4   rating       2685 non-null   float64\n",
      " 5   helpfulness  2685 non-null   float64\n",
      " 6   gender       2685 non-null   object \n",
      " 7   category     2685 non-null   object \n",
      " 8   item_id      2685 non-null   int64  \n",
      " 9   item_price   2685 non-null   float64\n",
      " 10  user_city    2685 non-null   int64  \n",
      "dtypes: float64(3), int64(4), object(4)\n",
      "memory usage: 230.9+ KB\n",
      "None\n"
     ]
    }
   ],
   "source": [
    "# display the first few rows\n",
    "print(\"First few rows of the dataset:\")\n",
    "print(df.head())\n",
    "\n",
    "# get an overview of the data \n",
    "print(\"Data types\")\n",
    "print(df.info())"
   ]
  },
  {
   "cell_type": "code",
   "execution_count": 19,
   "id": "846ee114",
   "metadata": {},
   "outputs": [
    {
     "name": "stdout",
     "output_type": "stream",
     "text": [
      "             helpfulness    gender  category    review    rating\n",
      "helpfulness     1.000000  0.075947 -0.013408 -0.028259 -0.007523\n",
      "gender          0.075947  1.000000  0.022549 -0.037884 -0.034337\n",
      "category       -0.013408  0.022549  1.000000  0.001970 -0.163158\n",
      "review         -0.028259 -0.037884  0.001970  1.000000 -0.036118\n",
      "rating         -0.007523 -0.034337 -0.163158 -0.036118  1.000000\n"
     ]
    }
   ],
   "source": [
    "from sklearn.preprocessing import OrdinalEncoder\n",
    "\n",
    "# initialize the encoder\n",
    "encoder = OrdinalEncoder()\n",
    "\n",
    "# encode categorical features: gender, category, and review\n",
    "df[['gender', 'category', 'review']] = encoder.fit_transform(df[['gender', 'category', 'review']])\n",
    "\n",
    "# Calculate correlations\n",
    "correlations = df[['helpfulness', 'gender', 'category', 'review', 'rating']].corr()\n",
    "\n",
    "print(correlations)"
   ]
  },
  {
   "cell_type": "markdown",
   "id": "4myP5igslA_Y",
   "metadata": {
    "id": "4myP5igslA_Y"
   },
   "source": [
    "### Split Training and Testing Data\n",
    "* Machine learning models are trained to help make predictions for the future. Normally, we need to randomly split the dataset into training and testing sets, where we use the training set to train the model, and then leverage the well-trained model to make predictions on the testing set.\n",
    "* To further investigate whether the size of the training/testing data affects the model performance, please random split the data into training and testing sets with different sizes:\n",
    "    * Case 1: training data containing 10% of the entire data;\n",
    "    * Case 2: training data containing 90% of the entire data.\n",
    "* Print the shape of training and testing sets in the two cases."
   ]
  },
  {
   "cell_type": "code",
   "execution_count": 22,
   "id": "JIDMig9blA_Y",
   "metadata": {
    "id": "JIDMig9blA_Y"
   },
   "outputs": [
    {
     "name": "stdout",
     "output_type": "stream",
     "text": [
      "case 1:\n",
      "training set shape: (268, 11)\n",
      "testing set shape: (2417, 11)\n",
      "\n",
      "case 2:\n",
      "training set shape: (2416, 11)\n",
      "testing set shape: (269, 11)\n"
     ]
    }
   ],
   "source": [
    "from sklearn.model_selection import train_test_split\n",
    "\n",
    "# case 1 10% of the data for training\n",
    "train_case1, test_case1 = train_test_split(df, train_size=0.1, random_state=66)\n",
    "\n",
    "print(\"case 1:\")\n",
    "print(\"training set shape:\", train_case1.shape)\n",
    "print(\"testing set shape:\", test_case1.shape)\n",
    "\n",
    "# case 2 90% of the data for training\n",
    "train_case2, test_case2 = train_test_split(df, train_size=0.9, random_state=66)\n",
    "\n",
    "print(\"\\ncase 2:\")\n",
    "print(\"training set shape:\", train_case2.shape)\n",
    "print(\"testing set shape:\", test_case2.shape)\n"
   ]
  },
  {
   "cell_type": "markdown",
   "id": "DjSsgT0BlA_Y",
   "metadata": {
    "id": "DjSsgT0BlA_Y"
   },
   "source": [
    "### Train Linear Regression Models with Feature Selection under Cases 1 & 2\n",
    "* When training a machine learning model for prediction, we may need to select the most important/correlated input features for more accurate results.\n",
    "* To investigate whether feature selection affects the model performance, please select two most correlated features and two least correlated features from helpfulness/gender/category/review regarding rating, respectively.\n",
    "* Train four linear regression models by following the conditions:\n",
    "    - (model-a) using the training/testing data in case 1 with two most correlated input features\n",
    "    - (model-b) using the training/testing data in case 1 with two least correlated input features\n",
    "    - (model-c) using the training/testing data in case 2 with two most correlated input features\n",
    "    - (model-d) using the training/testing data in case 2 with two least correlated input features\n",
    "* By doing this, we can verify the impacts of the size of traing/testing data on the model performance via comparing model-a and model-c (or model-b and model-d); meanwhile the impacts of feature selection can be validated via comparing model-a and model-b (or model-c and model-d).    "
   ]
  },
  {
   "cell_type": "code",
   "execution_count": 23,
   "id": "DASzPUATlA_Z",
   "metadata": {
    "id": "DASzPUATlA_Z"
   },
   "outputs": [
    {
     "name": "stdout",
     "output_type": "stream",
     "text": [
      "model a Coefficients: [ 0.14312605 -0.00015009]\n",
      "model a Intercept: 3.351195533381069\n",
      "model b Coefficients: [ 0.12856096 -0.11890386]\n",
      "model b Intercept: 4.246065315029025\n",
      "\n",
      "Model-c Coefficients: [-5.93584384e-02 -5.57487495e-05]\n",
      "Model-c Intercept: 4.013681722271123\n",
      "\n",
      "Model-d Coefficients: [-0.05764882 -0.12745212]\n",
      "Model-d Intercept: 4.378166780887855\n"
     ]
    }
   ],
   "source": [
    "from sklearn.linear_model import LinearRegression\n",
    "\n",
    "# Selecting two most correlated features and two least correlated features with rating\n",
    "most_correlated_features = ['helpfulness', 'review']\n",
    "least_correlated_features = ['gender', 'category']\n",
    "\n",
    "# model a: Using the training/testing data in case 1 with two most correlated input features\n",
    "X_train_a, X_test_a = train_case1[most_correlated_features], test_case1[most_correlated_features]\n",
    "y_train_a, y_test_a = train_case1['rating'], test_case1['rating']\n",
    "\n",
    "model_a = LinearRegression()\n",
    "model_a.fit(X_train_a, y_train_a)\n",
    "\n",
    "# model b: Using the training/testing data in case 1 with two least correlated input features\n",
    "X_train_b, X_test_b = train_case1[least_correlated_features], test_case1[least_correlated_features]\n",
    "y_train_b, y_test_b = train_case1['rating'], test_case1['rating']\n",
    "\n",
    "model_b = LinearRegression()\n",
    "model_b.fit(X_train_b, y_train_b)\n",
    "\n",
    "# model c: Using the training/testing data in case 2 with two most correlated input features\n",
    "X_train_c, X_test_c = train_case2[most_correlated_features], test_case2[most_correlated_features]\n",
    "y_train_c, y_test_c = train_case2['rating'], test_case2['rating']\n",
    "\n",
    "model_c = LinearRegression()\n",
    "model_c.fit(X_train_c, y_train_c)\n",
    "\n",
    "# model d: Using the training/testing data in case 2 with two least correlated input features\n",
    "X_train_d, X_test_d = train_case2[least_correlated_features], test_case2[least_correlated_features]\n",
    "y_train_d, y_test_d = train_case2['rating'], test_case2['rating']\n",
    "\n",
    "model_d = LinearRegression()\n",
    "model_d.fit(X_train_d, y_train_d)\n",
    "\n",
    "# model a\n",
    "print(\"model a Coefficients:\", model_a.coef_)\n",
    "print(\"model a Intercept:\", model_a.intercept_)\n",
    "\n",
    "# model b\n",
    "print(\"model b Coefficients:\", model_b.coef_)\n",
    "print(\"model b Intercept:\", model_b.intercept_)\n",
    "\n",
    "# model c\n",
    "print(\"\\nModel-c Coefficients:\", model_c.coef_)\n",
    "print(\"Model-c Intercept:\", model_c.intercept_)\n",
    "\n",
    "# model d\n",
    "print(\"\\nModel-d Coefficients:\", model_d.coef_)\n",
    "print(\"Model-d Intercept:\", model_d.intercept_)\n"
   ]
  },
  {
   "cell_type": "markdown",
   "id": "KATSn7hYlA_Z",
   "metadata": {
    "id": "KATSn7hYlA_Z"
   },
   "source": [
    "### Evaluate Models\n",
    "* Evaluate the performance of the four models with two metrics, including MSE and Root MSE\n",
    "* Print the results of the four models regarding the two metrics"
   ]
  },
  {
   "cell_type": "code",
   "execution_count": 27,
   "id": "4fU8GPS9lA_Z",
   "metadata": {
    "id": "4fU8GPS9lA_Z"
   },
   "outputs": [
    {
     "name": "stdout",
     "output_type": "stream",
     "text": [
      "Model-a - MSE: 1.8199366549304943 RMSE: 1.3490502788741767 R-squared: -0.004041897278896478\n",
      "Model-b - MSE: 1.7750345909125875 RMSE: 1.332304241122345 R-squared: 0.020730148180015062\n",
      "Model-c - MSE: 1.8975333253582367 RMSE: 1.3775098276811808 R-squared: 0.002604790171521154\n",
      "Model-d - MSE: 1.8583170118923098 RMSE: 1.363201016685474 R-squared: 0.02321795288931583\n"
     ]
    }
   ],
   "source": [
    "from sklearn.metrics import mean_squared_error, r2_score\n",
    "\n",
    "# Predictions for model a\n",
    "predictions_a = model_a.predict(X_test_a)\n",
    "mse_a = mean_squared_error(y_test_a, predictions_a)\n",
    "rmse_a = np.sqrt(mse_a)\n",
    "r2_a = r2_score(y_test_a, predictions_a)\n",
    "\n",
    "# Predictions for model b\n",
    "predictions_b = model_b.predict(X_test_b)\n",
    "mse_b = mean_squared_error(y_test_b, predictions_b)\n",
    "rmse_b = np.sqrt(mse_b)\n",
    "r2_b = r2_score(y_test_b, predictions_b)\n",
    "\n",
    "# Predictions for model c\n",
    "predictions_c = model_c.predict(X_test_c)\n",
    "mse_c = mean_squared_error(y_test_c, predictions_c)\n",
    "rmse_c = np.sqrt(mse_c)\n",
    "r2_c = r2_score(y_test_c, predictions_c)\n",
    "\n",
    "# Predictions for model d\n",
    "predictions_d = model_d.predict(X_test_d)\n",
    "mse_d = mean_squared_error(y_test_d, predictions_d)\n",
    "rmse_d = np.sqrt(mse_d)\n",
    "r2_d = r2_score(y_test_d, predictions_d)\n",
    "\n",
    "# Print the results\n",
    "print(\"Model-a - MSE:\", mse_a, \"RMSE:\", rmse_a, \"R-squared:\", r2_a)\n",
    "print(\"Model-b - MSE:\", mse_b, \"RMSE:\", rmse_b, \"R-squared:\", r2_b)\n",
    "print(\"Model-c - MSE:\", mse_c, \"RMSE:\", rmse_c, \"R-squared:\", r2_c)\n",
    "print(\"Model-d - MSE:\", mse_d, \"RMSE:\", rmse_d, \"R-squared:\", r2_d)\n",
    "\n"
   ]
  },
  {
   "cell_type": "markdown",
   "id": "Y9jx-eY6lA_a",
   "metadata": {
    "id": "Y9jx-eY6lA_a"
   },
   "source": [
    "### Visualize, Compare and Analyze the Results\n",
    "* Visulize the results, and perform ___insightful analysis___ on the obtained results. For better visualization, you may need to carefully set the scale for the y-axis.\n",
    "* Normally, the model trained with most correlated features and more training data will get better results. Do you obtain the similar observations? If not, please ___explain the possible reasons___."
   ]
  },
  {
   "cell_type": "code",
   "execution_count": 30,
   "id": "3TNAIGDilA_a",
   "metadata": {
    "id": "3TNAIGDilA_a"
   },
   "outputs": [
    {
     "data": {
      "image/png": "[encoded data removed]",
      "text/plain": [
       "<Figure size 1000x800 with 2 Axes>"
      ]
     },
     "metadata": {},
     "output_type": "display_data"
    }
   ],
   "source": [
    "import matplotlib.pyplot as plt\n",
    "\n",
    "# Data for visualization\n",
    "models = ['model a', 'model b', 'model c', 'model d']\n",
    "mse_values = [mse_a, mse_b, mse_c, mse_d]\n",
    "rmse_values = [rmse_a, rmse_b, rmse_c, rmse_d]\n",
    "\n",
    "# Create subplots\n",
    "fig, (ax1, ax2) = plt.subplots(2, 1, figsize=(10, 8))\n",
    "\n",
    "# Plot MSE\n",
    "ax1.bar(models, mse_values, color='skyblue')\n",
    "ax1.set_title('Mean Squared Error (MSE)')\n",
    "ax1.set_ylabel('MSE')\n",
    "\n",
    "# Set y-axis scale for MSE\n",
    "ax1.set_ylim(0, max(mse_values) * 1.2)\n",
    "\n",
    "# Plot RMSE\n",
    "ax2.bar(models, rmse_values, color='lightgreen')\n",
    "ax2.set_title('Root Mean Squared Error (RMSE)')\n",
    "ax2.set_ylabel('RMSE')\n",
    "\n",
    "# Set y-axis scale for RMSE\n",
    "ax2.set_ylim(0, max(rmse_values) * 1.2)\n",
    "\n",
    "# Show plot\n",
    "plt.tight_layout()\n",
    "plt.show()\n",
    "\n"
   ]
  },
  {
   "cell_type": "markdown",
   "id": "9741a604",
   "metadata": {
    "id": "Y9jx-eY6lA_a"
   },
   "source": [
    "We can see from the graphs that there is clear data similarity, this shows that the sets they were trained on were similar and the data is comparable, \n",
    "\n",
    "it is clear from the results that the models have a lot of room for improvement, RMSE values are close which tells us there is a similar performance and can be a sign that the test and data are consistent across all 4 tests, based on the extra R squared test I have performed we can also state that none of the models has low predictive powers as none of the R squared values are close to 1 "
   ]
  },
  {
   "cell_type": "markdown",
   "id": "f9ee01ac",
   "metadata": {
    "id": "f9ee01ac"
   },
   "source": [
    "### Data Science Ethics\n",
    "*Please read the following examples [Click here to read the example_1.](https://www.vox.com/covid-19-coronavirus-us-response-trump/2020/5/18/21262265/georgia-covid-19-cases-declining-reopening) [Click here to read the example_2.](https://viborc.com/ethics-and-ethical-data-visualization-a-complete-guide/)\n",
    "\n",
    "*Then view the picture ![My Image](figure_portfolio2.png \"This is my image\")\n",
    "Please compose an analysis of 100-200 words that evaluates potential ethical concerns associated with the infographic, detailing the reasons behind these issues.\n",
    "\n"
   ]
  },
  {
   "cell_type": "markdown",
   "id": "e5ff12ca",
   "metadata": {
    "id": "f9ee01ac"
   },
   "source": [
    "Table 1 Ethical Concerns\n",
    "\n",
    "As Germany and France both have 41 total medals the principle of fairness and objectivity as well as clarity and simplicity would dictate that the reasoning for putting Germany above France needs to be explained. this choice was most likely made as Germany has a higher number of gold medals but without explanation from someone on the table, this is only an assumption. \n",
    "\n",
    "Table 2 Ethical Concerns\n",
    "\n",
    "Table 2 follows the principles of ethical data visualisation, The ranking is accurate and fits within honesty and accuracy, by highlighting the gold medal tally it makes the chart easily readable, clear and simple. the graph is fair and doesn't attempt to shift any data to promote a bias. by going via country in a public and internationally recognised competition they aren't using sensitive or private data to violate the privacy of those involved and finally the Olympics is an international comp and honours cultural sensitivity \n",
    "\n",
    "General Discussion \n",
    "\n",
    "Both of the tables do a good job of abiding by data visualisation ethics and display the data honestly and clearly. "
   ]
  },
  {
   "cell_type": "code",
   "execution_count": null,
   "id": "654be371",
   "metadata": {},
   "outputs": [],
   "source": []
  }
 ],
 "metadata": {
  "colab": {
   "provenance": []
  },
  "kernelspec": {
   "display_name": "Python 3 (ipykernel)",
   "language": "python",
   "name": "python3"
  },
  "language_info": {
   "codemirror_mode": {
    "name": "ipython",
    "version": 3
   },
   "file_extension": ".py",
   "mimetype": "text/x-python",
   "name": "python",
   "nbconvert_exporter": "python",
   "pygments_lexer": "ipython3",
   "version": "3.11.5"
  }
 },
 "nbformat": 4,
 "nbformat_minor": 5
}
